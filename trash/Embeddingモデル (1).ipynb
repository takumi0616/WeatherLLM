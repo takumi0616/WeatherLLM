{
 "cells": [
  {
   "cell_type": "markdown",
   "metadata": {
    "id": "EpCpagQvExvn"
   },
   "source": [
    "OpenAI"
   ]
  },
  {
   "cell_type": "code",
   "execution_count": 1,
   "metadata": {
    "colab": {
     "base_uri": "https://localhost:8080/"
    },
    "executionInfo": {
     "elapsed": 15913,
     "status": "ok",
     "timestamp": 1724554807907,
     "user": {
      "displayName": "高須賀匠",
      "userId": "17240927925638879533"
     },
     "user_tz": -540
    },
    "id": "_OyWW6--KZYz",
    "outputId": "be443682-3b30-4bd2-abe5-34b91c4fc596"
   },
   "outputs": [
    {
     "name": "stdout",
     "output_type": "stream",
     "text": [
      "Collecting openai==0.28\n",
      "  Downloading openai-0.28.0-py3-none-any.whl.metadata (13 kB)\n",
      "Requirement already satisfied: requests>=2.20 in /usr/local/lib/python3.10/dist-packages (from openai==0.28) (2.32.3)\n",
      "Requirement already satisfied: tqdm in /usr/local/lib/python3.10/dist-packages (from openai==0.28) (4.66.5)\n",
      "Requirement already satisfied: aiohttp in /usr/local/lib/python3.10/dist-packages (from openai==0.28) (3.10.5)\n",
      "Requirement already satisfied: charset-normalizer<4,>=2 in /usr/local/lib/python3.10/dist-packages (from requests>=2.20->openai==0.28) (3.3.2)\n",
      "Requirement already satisfied: idna<4,>=2.5 in /usr/local/lib/python3.10/dist-packages (from requests>=2.20->openai==0.28) (3.7)\n",
      "Requirement already satisfied: urllib3<3,>=1.21.1 in /usr/local/lib/python3.10/dist-packages (from requests>=2.20->openai==0.28) (2.0.7)\n",
      "Requirement already satisfied: certifi>=2017.4.17 in /usr/local/lib/python3.10/dist-packages (from requests>=2.20->openai==0.28) (2024.7.4)\n",
      "Requirement already satisfied: aiohappyeyeballs>=2.3.0 in /usr/local/lib/python3.10/dist-packages (from aiohttp->openai==0.28) (2.4.0)\n",
      "Requirement already satisfied: aiosignal>=1.1.2 in /usr/local/lib/python3.10/dist-packages (from aiohttp->openai==0.28) (1.3.1)\n",
      "Requirement already satisfied: attrs>=17.3.0 in /usr/local/lib/python3.10/dist-packages (from aiohttp->openai==0.28) (24.2.0)\n",
      "Requirement already satisfied: frozenlist>=1.1.1 in /usr/local/lib/python3.10/dist-packages (from aiohttp->openai==0.28) (1.4.1)\n",
      "Requirement already satisfied: multidict<7.0,>=4.5 in /usr/local/lib/python3.10/dist-packages (from aiohttp->openai==0.28) (6.0.5)\n",
      "Requirement already satisfied: yarl<2.0,>=1.0 in /usr/local/lib/python3.10/dist-packages (from aiohttp->openai==0.28) (1.9.4)\n",
      "Requirement already satisfied: async-timeout<5.0,>=4.0 in /usr/local/lib/python3.10/dist-packages (from aiohttp->openai==0.28) (4.0.3)\n",
      "Downloading openai-0.28.0-py3-none-any.whl (76 kB)\n",
      "\u001b[2K   \u001b[90m━━━━━━━━━━━━━━━━━━━━━━━━━━━━━━━━━━━━━━━━\u001b[0m \u001b[32m76.5/76.5 kB\u001b[0m \u001b[31m2.9 MB/s\u001b[0m eta \u001b[36m0:00:00\u001b[0m\n",
      "\u001b[?25hInstalling collected packages: openai\n",
      "Successfully installed openai-0.28.0\n",
      "類似度スコア: 0.4406855280834369\n"
     ]
    }
   ],
   "source": [
    "!pip install openai==0.28\n",
    "\n",
    "import openai\n",
    "from google.colab import userdata\n",
    "\n",
    "# APIキーを取得\n",
    "api_key = userdata.get(\"GPT2_API_KEY\")\n",
    "openai.api_key = api_key  # ここにあなたのAPIキーを設定してください\n",
    "\n",
    "def encode_text(text):\n",
    "    response = openai.Embedding.create(\n",
    "        input=text,\n",
    "        model=\"text-embedding-3-large\"  # または \"text-embedding-3-small\"\n",
    "    )\n",
    "    return response[\"data\"][0][\"embedding\"]\n",
    "\n",
    "text1 = \"全国的に高気圧に覆われ晴れたが、午後は気圧の谷や湿った空気の影響で西・北日本は曇りや雨。熱帯低気圧に近い沖縄・奄美は雨。北海道浜鬼志別 20.5mm/1h は 10 月 1 位更新。\"\n",
    "text2 = \"2022年1月14日、各地で寒波が続き、特に北海道地方は強い風と雪に見舞われました。札幌や網走では積雪が10cm以上で、風速も最大17.4m/sに達しています。各地で厳しい冬の気象条件が報告されました。\"\n",
    "\n",
    "embedding1 = encode_text(text1)\n",
    "embedding2 = encode_text(text2)\n",
    "\n",
    "import numpy as np\n",
    "\n",
    "def cosine_similarity(embedding1, embedding2):\n",
    "    return np.dot(embedding1, embedding2) / (np.linalg.norm(embedding1) * np.linalg.norm(embedding2))\n",
    "\n",
    "similarity_score = cosine_similarity(embedding1, embedding2)\n",
    "print(f\"類似度スコア: {similarity_score}\")"
   ]
  },
  {
   "cell_type": "code",
   "execution_count": 16,
   "metadata": {
    "colab": {
     "base_uri": "https://localhost:8080/"
    },
    "executionInfo": {
     "elapsed": 10281,
     "status": "ok",
     "timestamp": 1724467977312,
     "user": {
      "displayName": "高須賀匠",
      "userId": "17240927925638879533"
     },
     "user_tz": -540
    },
    "id": "r5oAfbQDSMtb",
    "outputId": "f99a592f-c9b4-4a6d-9b73-c21f340572fc"
   },
   "outputs": [
    {
     "name": "stdout",
     "output_type": "stream",
     "text": [
      "Requirement already satisfied: openai==0.28 in /usr/local/lib/python3.10/dist-packages (0.28.0)\n",
      "Requirement already satisfied: requests>=2.20 in /usr/local/lib/python3.10/dist-packages (from openai==0.28) (2.32.3)\n",
      "Requirement already satisfied: tqdm in /usr/local/lib/python3.10/dist-packages (from openai==0.28) (4.66.5)\n",
      "Requirement already satisfied: aiohttp in /usr/local/lib/python3.10/dist-packages (from openai==0.28) (3.10.5)\n",
      "Requirement already satisfied: charset-normalizer<4,>=2 in /usr/local/lib/python3.10/dist-packages (from requests>=2.20->openai==0.28) (3.3.2)\n",
      "Requirement already satisfied: idna<4,>=2.5 in /usr/local/lib/python3.10/dist-packages (from requests>=2.20->openai==0.28) (3.7)\n",
      "Requirement already satisfied: urllib3<3,>=1.21.1 in /usr/local/lib/python3.10/dist-packages (from requests>=2.20->openai==0.28) (2.0.7)\n",
      "Requirement already satisfied: certifi>=2017.4.17 in /usr/local/lib/python3.10/dist-packages (from requests>=2.20->openai==0.28) (2024.7.4)\n",
      "Requirement already satisfied: aiohappyeyeballs>=2.3.0 in /usr/local/lib/python3.10/dist-packages (from aiohttp->openai==0.28) (2.4.0)\n",
      "Requirement already satisfied: aiosignal>=1.1.2 in /usr/local/lib/python3.10/dist-packages (from aiohttp->openai==0.28) (1.3.1)\n",
      "Requirement already satisfied: attrs>=17.3.0 in /usr/local/lib/python3.10/dist-packages (from aiohttp->openai==0.28) (24.2.0)\n",
      "Requirement already satisfied: frozenlist>=1.1.1 in /usr/local/lib/python3.10/dist-packages (from aiohttp->openai==0.28) (1.4.1)\n",
      "Requirement already satisfied: multidict<7.0,>=4.5 in /usr/local/lib/python3.10/dist-packages (from aiohttp->openai==0.28) (6.0.5)\n",
      "Requirement already satisfied: yarl<2.0,>=1.0 in /usr/local/lib/python3.10/dist-packages (from aiohttp->openai==0.28) (1.9.4)\n",
      "Requirement already satisfied: async-timeout<5.0,>=4.0 in /usr/local/lib/python3.10/dist-packages (from aiohttp->openai==0.28) (4.0.3)\n",
      "Drive already mounted at /content/drive; to attempt to forcibly remount, call drive.mount(\"/content/drive\", force_remount=True).\n",
      "類似度スコア: 0.7278830176812094\n"
     ]
    }
   ],
   "source": [
    "!pip install openai==0.28\n",
    "\n",
    "import openai\n",
    "# 1. Google Driveのマウント\n",
    "from google.colab import drive\n",
    "drive.mount('/content/drive')\n",
    "from google.colab import userdata\n",
    "\n",
    "# APIキーを取得\n",
    "api_key = userdata.get(\"GPT2_API_KEY\")\n",
    "openai.api_key = api_key  # ここにあなたのAPIキーを設定してください\n",
    "\n",
    "# 3. テキストファイルを読み込むための関数\n",
    "def read_text_file(file_path):\n",
    "    with open(file_path, 'r', encoding='utf-8') as file:\n",
    "        return file.read()\n",
    "\n",
    "def encode_text(text):\n",
    "    response = openai.Embedding.create(\n",
    "        input=text,\n",
    "        model=\"text-embedding-3-large\"  # または \"text-embedding-3-small\"\n",
    "    )\n",
    "    return response[\"data\"][0][\"embedding\"]\n",
    "\n",
    "text1 = read_text_file(f'/content/drive/My Drive/研究用/2023_12_調査ノート/訂正用/コメント/元のコメント/2022_01_14_original.txt')\n",
    "text2 = read_text_file(f'/content/drive/My Drive/研究用/2023_12_調査ノート/訂正用/コメント/生成したコメント/v4_gpt4o_生成されたコメント/2022_01_14_gpt4o_generate_v4.txt')\n",
    "\n",
    "embedding1 = encode_text(text1)\n",
    "embedding2 = encode_text(text2)\n",
    "\n",
    "import numpy as np\n",
    "\n",
    "def cosine_similarity(embedding1, embedding2):\n",
    "    return np.dot(embedding1, embedding2) / (np.linalg.norm(embedding1) * np.linalg.norm(embedding2))\n",
    "\n",
    "similarity_score = cosine_similarity(embedding1, embedding2)\n",
    "print(f\"類似度スコア: {similarity_score}\")"
   ]
  },
  {
   "cell_type": "code",
   "execution_count": 5,
   "metadata": {
    "colab": {
     "base_uri": "https://localhost:8080/"
    },
    "executionInfo": {
     "elapsed": 13555,
     "status": "ok",
     "timestamp": 1724466819298,
     "user": {
      "displayName": "高須賀匠",
      "userId": "17240927925638879533"
     },
     "user_tz": -540
    },
    "id": "T8WV4jdwN4Ij",
    "outputId": "88b322a0-591b-4fb4-f85d-589a5961e511"
   },
   "outputs": [
    {
     "name": "stdout",
     "output_type": "stream",
     "text": [
      "Requirement already satisfied: openai==0.28 in /usr/local/lib/python3.10/dist-packages (0.28.0)\n",
      "Requirement already satisfied: janome in /usr/local/lib/python3.10/dist-packages (0.5.0)\n",
      "Requirement already satisfied: nltk in /usr/local/lib/python3.10/dist-packages (3.8.1)\n",
      "Collecting rouge\n",
      "  Downloading rouge-1.0.1-py3-none-any.whl.metadata (4.1 kB)\n",
      "Requirement already satisfied: requests>=2.20 in /usr/local/lib/python3.10/dist-packages (from openai==0.28) (2.32.3)\n",
      "Requirement already satisfied: tqdm in /usr/local/lib/python3.10/dist-packages (from openai==0.28) (4.66.5)\n",
      "Requirement already satisfied: aiohttp in /usr/local/lib/python3.10/dist-packages (from openai==0.28) (3.10.5)\n",
      "Requirement already satisfied: click in /usr/local/lib/python3.10/dist-packages (from nltk) (8.1.7)\n",
      "Requirement already satisfied: joblib in /usr/local/lib/python3.10/dist-packages (from nltk) (1.4.2)\n",
      "Requirement already satisfied: regex>=2021.8.3 in /usr/local/lib/python3.10/dist-packages (from nltk) (2024.5.15)\n",
      "Requirement already satisfied: six in /usr/local/lib/python3.10/dist-packages (from rouge) (1.16.0)\n",
      "Requirement already satisfied: charset-normalizer<4,>=2 in /usr/local/lib/python3.10/dist-packages (from requests>=2.20->openai==0.28) (3.3.2)\n",
      "Requirement already satisfied: idna<4,>=2.5 in /usr/local/lib/python3.10/dist-packages (from requests>=2.20->openai==0.28) (3.7)\n",
      "Requirement already satisfied: urllib3<3,>=1.21.1 in /usr/local/lib/python3.10/dist-packages (from requests>=2.20->openai==0.28) (2.0.7)\n",
      "Requirement already satisfied: certifi>=2017.4.17 in /usr/local/lib/python3.10/dist-packages (from requests>=2.20->openai==0.28) (2024.7.4)\n",
      "Requirement already satisfied: aiohappyeyeballs>=2.3.0 in /usr/local/lib/python3.10/dist-packages (from aiohttp->openai==0.28) (2.4.0)\n",
      "Requirement already satisfied: aiosignal>=1.1.2 in /usr/local/lib/python3.10/dist-packages (from aiohttp->openai==0.28) (1.3.1)\n",
      "Requirement already satisfied: attrs>=17.3.0 in /usr/local/lib/python3.10/dist-packages (from aiohttp->openai==0.28) (24.2.0)\n",
      "Requirement already satisfied: frozenlist>=1.1.1 in /usr/local/lib/python3.10/dist-packages (from aiohttp->openai==0.28) (1.4.1)\n",
      "Requirement already satisfied: multidict<7.0,>=4.5 in /usr/local/lib/python3.10/dist-packages (from aiohttp->openai==0.28) (6.0.5)\n",
      "Requirement already satisfied: yarl<2.0,>=1.0 in /usr/local/lib/python3.10/dist-packages (from aiohttp->openai==0.28) (1.9.4)\n",
      "Requirement already satisfied: async-timeout<5.0,>=4.0 in /usr/local/lib/python3.10/dist-packages (from aiohttp->openai==0.28) (4.0.3)\n",
      "Downloading rouge-1.0.1-py3-none-any.whl (13 kB)\n",
      "Installing collected packages: rouge\n",
      "Successfully installed rouge-1.0.1\n",
      "Embedding類似度スコア: 0.67202385276731\n",
      "BLEUスコア: 0.07420116852932022\n",
      "ROUGE-1スコア: 0.43373493476556835\n"
     ]
    }
   ],
   "source": [
    "!pip install openai==0.28 janome nltk rouge\n",
    "\n",
    "import openai\n",
    "from google.colab import userdata\n",
    "from janome.tokenizer import Tokenizer\n",
    "import numpy as np\n",
    "from nltk.translate.bleu_score import sentence_bleu\n",
    "from rouge import Rouge\n",
    "\n",
    "# APIキーを取得\n",
    "api_key = userdata.get(\"GPT2_API_KEY\")\n",
    "openai.api_key = api_key  # ここにあなたのAPIキーを設定してください\n",
    "\n",
    "# 日本語のテキストのトークン化\n",
    "def tokenize_japanese(text):\n",
    "    tokenizer = Tokenizer()\n",
    "    return [token.surface for token in tokenizer.tokenize(text)]\n",
    "\n",
    "def encode_text(text):\n",
    "    # テキストをトークン化してから埋め込みを生成\n",
    "    tokenized_text = \" \".join(tokenize_japanese(text))\n",
    "    response = openai.Embedding.create(\n",
    "        input=tokenized_text,\n",
    "        model=\"text-embedding-3-large\"  # または \"text-embedding-3-small\"\n",
    "    )\n",
    "    return response[\"data\"][0][\"embedding\"]\n",
    "\n",
    "def cosine_similarity(embedding1, embedding2):\n",
    "    return np.dot(embedding1, embedding2) / (np.linalg.norm(embedding1) * np.linalg.norm(embedding2))\n",
    "\n",
    "def calculate_bleu(reference, candidate):\n",
    "    return sentence_bleu([reference], candidate)\n",
    "\n",
    "def calculate_rouge(reference, candidate):\n",
    "    rouge = Rouge()\n",
    "    scores = rouge.get_scores(\" \".join(candidate), \" \".join(reference))\n",
    "    return scores[0]['rouge-1']['f']\n",
    "\n",
    "text1 = \"全国的に高気圧に覆われ晴れたが、午後は気圧の谷や湿った空気の影響で西・北日本は曇りや雨。熱帯低気圧に近い沖縄・奄美は雨。北海道浜鬼志別 20.5mm/1h は 10 月 1 位更新。\"\n",
    "text2 = \"日本付近は高気圧に覆われ、概ね晴れ。沖縄地方は低気圧の影響で雨が多く、風も強い。那覇で最大瞬間風速 16.6m/s、宮古島で合計降水量 19.0mm。\"\n",
    "\n",
    "# Embedding類似度の計算\n",
    "embedding1 = encode_text(text1)\n",
    "embedding2 = encode_text(text2)\n",
    "similarity_score = cosine_similarity(embedding1, embedding2)\n",
    "\n",
    "# BLEUとROUGE-1スコアの計算\n",
    "tokenized_text1 = tokenize_japanese(text1)\n",
    "tokenized_text2 = tokenize_japanese(text2)\n",
    "bleu_score = calculate_bleu(tokenized_text1, tokenized_text2)\n",
    "rouge_score = calculate_rouge(tokenized_text1, tokenized_text2)\n",
    "\n",
    "print(f\"Embedding類似度スコア: {similarity_score}\")\n",
    "print(f\"BLEUスコア: {bleu_score}\")\n",
    "print(f\"ROUGE-1スコア: {rouge_score}\")"
   ]
  }
 ],
 "metadata": {
  "colab": {
   "authorship_tag": "ABX9TyMxWpQA2AFKXlJVXGb0/bsx",
   "provenance": []
  },
  "kernelspec": {
   "display_name": "Python 3",
   "name": "python3"
  },
  "language_info": {
   "name": "python"
  }
 },
 "nbformat": 4,
 "nbformat_minor": 0
}
